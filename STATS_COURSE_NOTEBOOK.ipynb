{
 "metadata": {
  "language_info": {
   "codemirror_mode": {
    "name": "ipython",
    "version": 3
   },
   "file_extension": ".py",
   "mimetype": "text/x-python",
   "name": "python",
   "nbconvert_exporter": "python",
   "pygments_lexer": "ipython3",
   "version": "3.8.7-final"
  },
  "orig_nbformat": 2,
  "kernelspec": {
   "name": "python3",
   "display_name": "Python 3.8.7 64-bit",
   "metadata": {
    "interpreter": {
     "hash": "4708a49196ed8f642904c433d402adefc88fe91ddd589d1e44b16c91144f4d46"
    }
   }
  }
 },
 "nbformat": 4,
 "nbformat_minor": 2,
 "cells": [
  {
   "source": [
    "<h1>1.9. Naive Bayes</h1>\n",
    "\n",
    "Naive Bayes methods are a set of supervised learning algorithms based on applying Bayes’ theorem with the “naive” assumption of conditional independence between every pair of features given the value of the class variable. Bayes’ theorem states the following relationship, given class variable $y$ and dependent feature vector $x_1$\n",
    " through $ x_n $:"
   ],
   "cell_type": "markdown",
   "metadata": {}
  },
  {
   "source": [
    "$$ P(y \\mid x_1, \\dots, x_n) = \\frac{P(y) P(x_1, \\dots, x_n \\mid y)} {P(x_1, \\dots, x_n)} $$"
   ],
   "cell_type": "markdown",
   "metadata": {}
  },
  {
   "source": [
    "Using the naive conditional independence assumption that:\n",
    " $ P(x_i | y, x_1, \\dots, x_{i-1}, x_{i+1}, \\dots, x_n) = P(x_i | y), $"
   ],
   "cell_type": "markdown",
   "metadata": {}
  },
  {
   "source": [
    "for all $i$, this relationship is simplified to: $ P(y \\mid x_1, \\dots, x_n) = \\frac{P(y) \\prod_{i=1}^{n} P(x_i \\mid y)} {P(x_1, \\dots, x_n)}$"
   ],
   "cell_type": "markdown",
   "metadata": {}
  },
  {
   "source": [
    "Since $P(x_1,...,x_n)$ is constant given the input, we can use the following classification rule: \n",
    "$ \\begin{align}\\begin{aligned}P(y \\mid x_1, \\dots, x_n) \\propto P(y) \\prod_{i=1}^{n} P(x_i \\mid y)\\\\\\Downarrow\\\\\\hat{y} = \\arg\\max_y P(y) \\prod_{i=1}^{n} P(x_i \\mid y),\\end{aligned}\\end{align}$ "
   ],
   "cell_type": "markdown",
   "metadata": {}
  },
  {
   "source": [
    "The following is the Gaussian Naive Bayes Classifier"
   ],
   "cell_type": "markdown",
   "metadata": {}
  },
  {
   "source": [
    "$$ P(x_i \\mid y) = \\frac{1}{\\sqrt{2\\pi\\sigma^2_y}} \\exp\\left(-\\frac{(x_i - \\mu_y)^2}{2\\sigma^2_y}\\right) $$"
   ],
   "cell_type": "markdown",
   "metadata": {}
  },
  {
   "cell_type": "code",
   "execution_count": 10,
   "metadata": {},
   "outputs": [
    {
     "output_type": "stream",
     "name": "stdout",
     "text": [
      "Number of mislabeled points out of a total 75 points : 4\n"
     ]
    }
   ],
   "source": [
    "from sklearn.datasets import load_iris\n",
    ">>> from sklearn.model_selection import train_test_split\n",
    ">>> from sklearn.naive_bayes import GaussianNB\n",
    ">>> X, y = load_iris(return_X_y=True)\n",
    ">>> X_train, X_test, y_train, y_test = train_test_split(X, y, test_size=0.5, random_state=0)\n",
    ">>> gnb = GaussianNB()\n",
    ">>> y_pred = gnb.fit(X_train, y_train).predict(X_test)\n",
    ">>> print(\"Number of mislabeled points out of a total %d points : %d\"\n",
    "% (X_test.shape[0], (y_test != y_pred).sum()))"
   ]
  },
  {
   "source": [
    "The probability that the test correctly identifies someone with the illness as positive is $0.99$ and the probability that the test correctly identifies someone without the illness as negative is $0.95$\n",
    "You take the test and the results are positive. What is the probability that you have the illness?\n",
    "\n",
    "$$ P(D|S) = P(S \\cap D)/P(S) $$\n",
    "\n"
   ],
   "cell_type": "markdown",
   "metadata": {}
  },
  {
   "source": [
    "<h2>In class assignment</h2>\n",
    "\n",
    "$95%$ of very successfull products recieved **good reviews**\n",
    "$60%$ of moderately successful products recieved **good reviews**\n",
    "$10$ of **bad products** recieved **good reviews**\n",
    "$40%$ of products have been *very successful*\n",
    "$35%$ have been moderately successful, and \n",
    "$25$ have been bad products.\n",
    "\n",
    "A) What is the probability that a product attains a good review?\n",
    "\n",
    "Answers: $ P(G) = P(G \\cap V) + P(G \\cap M) + P(G \\cap B)$ \n",
    "\n",
    "$= P(G|V)P(V) + P(G|M)P(M) + P(G|B)P(B)$ \n",
    "\n",
    "$= (0.95)(0.4) + (0.6)(0.35) + (0.1)(0.25) = 0.615$"
   ],
   "cell_type": "markdown",
   "metadata": {}
  },
  {
   "cell_type": "code",
   "execution_count": null,
   "metadata": {},
   "outputs": [],
   "source": []
  }
 ]
}